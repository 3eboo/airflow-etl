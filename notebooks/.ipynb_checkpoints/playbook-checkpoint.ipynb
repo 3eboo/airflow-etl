{
 "cells": [
  {
   "cell_type": "markdown",
   "metadata": {},
   "source": [
    "# Spark session"
   ]
  },
  {
   "cell_type": "code",
   "execution_count": 2,
   "metadata": {
    "scrolled": true
   },
   "outputs": [
    {
     "name": "stderr",
     "output_type": "stream",
     "text": [
      "WARNING: An illegal reflective access operation has occurred\n",
      "WARNING: Illegal reflective access by org.apache.spark.unsafe.Platform (file:/usr/local/spark-3.1.2-bin-hadoop3.2/jars/spark-unsafe_2.12-3.1.2.jar) to constructor java.nio.DirectByteBuffer(long,int)\n",
      "WARNING: Please consider reporting this to the maintainers of org.apache.spark.unsafe.Platform\n",
      "WARNING: Use --illegal-access=warn to enable warnings of further illegal reflective access operations\n",
      "WARNING: All illegal access operations will be denied in a future release\n",
      "22/03/27 16:47:19 WARN NativeCodeLoader: Unable to load native-hadoop library for your platform... using builtin-java classes where applicable\n",
      "Using Spark's default log4j profile: org/apache/spark/log4j-defaults.properties\n",
      "Setting default log level to \"WARN\".\n",
      "To adjust logging level use sc.setLogLevel(newLevel). For SparkR, use setLogLevel(newLevel).\n",
      "22/03/27 16:47:20 WARN Utils: Service 'SparkUI' could not bind on port 4040. Attempting port 4041.\n"
     ]
    }
   ],
   "source": [
    "from pyspark.sql import SparkSession\n",
    "from pyspark.sql.functions import regexp_extract, col, countDistinct, count, last\n",
    "from pyspark.sql.types import IntegerType, StructType, StructField, StringType, DateType\n",
    "# Spark session & context\n",
    "spark = (SparkSession\n",
    "         .builder\n",
    "         .master(\"local\")\n",
    "         .appName(\"load-postgres\")\n",
    "         # Add postgres jar\n",
    "         .config(\"spark.driver.extraClassPath\", \"/home/jovyan/work/jars/postgresql-9.4.1207.jar\")\n",
    "         .getOrCreate())\n",
    "sc = spark.sparkContext"
   ]
  },
  {
   "cell_type": "code",
   "execution_count": 3,
   "metadata": {},
   "outputs": [],
   "source": [
    "table_schema = StructType([StructField('user_id', IntegerType()),\n",
    "                     StructField('regionid', StringType()),\n",
    "                     StructField('duration', IntegerType()),\n",
    "                     StructField('channel', StringType()),\n",
    "                     StructField('unique_sess_id', StringType()),\n",
    "                    StructField('app_id', IntegerType()),\n",
    "                    StructField('device', StringType()),\n",
    "                    StructField('cats', StringType()),\n",
    "                    StructField('email', StringType()),\n",
    "                    StructField('backend_id', IntegerType())])"
   ]
  },
  {
   "cell_type": "code",
   "execution_count": 4,
   "metadata": {},
   "outputs": [],
   "source": [
    "df = spark.read.format(\"csv\").option(\"header\", True).schema(table_schema).load(\"../data/hiring_task.csv\")"
   ]
  },
  {
   "cell_type": "code",
   "execution_count": 5,
   "metadata": {},
   "outputs": [
    {
     "name": "stdout",
     "output_type": "stream",
     "text": [
      "root\n",
      " |-- user_id: integer (nullable = true)\n",
      " |-- regionid: string (nullable = true)\n",
      " |-- duration: integer (nullable = true)\n",
      " |-- channel: string (nullable = true)\n",
      " |-- unique_sess_id: string (nullable = true)\n",
      " |-- app_id: integer (nullable = true)\n",
      " |-- device: string (nullable = true)\n",
      " |-- cats: string (nullable = true)\n",
      " |-- email: string (nullable = true)\n",
      " |-- backend_id: integer (nullable = true)\n",
      "\n"
     ]
    }
   ],
   "source": [
    "df.printSchema()"
   ]
  },
  {
   "cell_type": "code",
   "execution_count": 6,
   "metadata": {},
   "outputs": [],
   "source": [
    "df = df.withColumn('duration', df['duration'].cast(IntegerType()))"
   ]
  },
  {
   "cell_type": "code",
   "execution_count": 7,
   "metadata": {},
   "outputs": [],
   "source": [
    "df = df.withColumn('backend_id', regexp_extract(col('email'), r'-([0-9]+)@zattoo.com', 1))"
   ]
  },
  {
   "cell_type": "code",
   "execution_count": 8,
   "metadata": {
    "scrolled": true
   },
   "outputs": [
    {
     "name": "stdout",
     "output_type": "stream",
     "text": [
      "+-------+--------+--------+---------------+--------------------------------+------+------+------------------+-------------------------+----------+\n",
      "|user_id|regionid|duration|channel        |unique_sess_id                  |app_id|device|cats              |email                    |backend_id|\n",
      "+-------+--------+--------+---------------+--------------------------------+------+------+------------------+-------------------------+----------+\n",
      "|219132 |CN      |12      |HiQ_zdf        |15F7A7C14254AFA3-4422BBD0D068842|8     |ipad  |Serien            |15F7A7-5040036@zattoo.com|5040036   |\n",
      "|219132 |CN      |8       |HiQ_zdf        |15F7A7C37B610D05-376C0D307DC977B|8     |ipad  |Series            |15F7A7-5040036@zattoo.com|5040036   |\n",
      "|219132 |CN      |334     |HiQ_zdf        |15F7A7C37B610D05-376C0D307DC977B|8     |ipad  |Series            |15F7A7-5040036@zattoo.com|5040036   |\n",
      "|219132 |CN      |384     |HiQ_sf1        |15F70EFF1E46491C-39DE290AC760B2E|8     |iphone|Series            |15F70E-5040036@zattoo.com|5040036   |\n",
      "|219132 |CN      |150     |HD_3plus       |15F6AF7EBBE5C137-249A1BA21E366EB|6     |web   |Documentaries     |15F6AF-5040036@zattoo.com|5040036   |\n",
      "|219132 |CN      |372     |HD_3plus       |15F6AF7EBBE5C137-249A1BA21E366EB|6     |web   |Documentaries     |15F6AF-5040036@zattoo.com|5040036   |\n",
      "|219132 |CN      |588     |HD_3plus       |15F6AF7EBBE5C137-249A1BA21E366EB|6     |web   |Documentaries     |15F6AF-5040036@zattoo.com|5040036   |\n",
      "|219132 |CN      |1676    |HD_3plus       |15F6AF7EBBE5C137-249A1BA21E366EB|6     |web   |Documentaries     |15F6AF-5040036@zattoo.com|5040036   |\n",
      "|219132 |CN      |1676    |HD_3plus       |15F6AF7EBBE5C137-249A1BA21E366EB|6     |web   |Documentaries     |15F6AF-5040036@zattoo.com|5040036   |\n",
      "|219132 |CN      |974     |HiQ_zdf        |15F6B5D47DD1A54B-2E9E79E70CA7C8E|6     |web   |Series            |15F6B5-5040036@zattoo.com|5040036   |\n",
      "|219132 |CN      |2460    |HiQ_zdf        |15F6B5D47DD1A54B-2E9E79E70CA7C8E|6     |web   |Series            |15F6B5-5040036@zattoo.com|5040036   |\n",
      "|219132 |CN      |2460    |HiQ_zdf        |15F6B5D47DD1A54B-2E9E79E70CA7C8E|6     |web   |Series            |15F6B5-5040036@zattoo.com|5040036   |\n",
      "|219132 |CN      |5054    |HiQ_zdf        |15F6B5D47DD1A54B-2E9E79E70CA7C8E|6     |web   |Information       |15F6B5-5040036@zattoo.com|5040036   |\n",
      "|219132 |CN      |5054    |HiQ_zdf        |15F6B5D47DD1A54B-2E9E79E70CA7C8E|6     |web   |Information       |15F6B5-5040036@zattoo.com|5040036   |\n",
      "|219132 |CN      |326     |HD_rtl2_schweiz|15F6BE9F60093811-7C9BB996CC86219|6     |web   |Series            |15F6BE-5040036@zattoo.com|5040036   |\n",
      "|219132 |CN      |5260    |HiQ_zdf        |15F6BEEAA5B97309-233EB7F629AEC80|6     |web   |Information       |15F6BE-5040036@zattoo.com|5040036   |\n",
      "|219132 |CN      |5260    |HiQ_zdf        |15F6BEEAA5B97309-233EB7F629AEC80|6     |web   |Information       |15F6BE-5040036@zattoo.com|5040036   |\n",
      "|219132 |CN      |44      |HiQ_zdf        |15F499CA37501709-6B8C90AD42E0F0C|8     |ipad  |Series            |15F499-5040036@zattoo.com|5040036   |\n",
      "|219132 |CN      |156     |HiQ_zdf        |15F5408EF4C3FD6B-4A2CC4BE0FAF3A6|8     |ipad  |Series            |15F540-5040036@zattoo.com|5040036   |\n",
      "|219132 |CN      |3610    |HD_tv24        |15F5C5E0035C4558-15A16059C8538B7|6     |web   |Entertainment     |15F5C5-5040036@zattoo.com|5040036   |\n",
      "|219132 |CN      |152     |DE_HiQ_zdfdoku |15F667E280262A2C-632FDAA72F2059D|6     |web   |Series            |15F667-5040036@zattoo.com|5040036   |\n",
      "|219132 |CN      |2360    |DE_HiQ_zdfdoku |15F667E280262A2C-632FDAA72F2059D|6     |web   |Entertainment     |15F667-5040036@zattoo.com|5040036   |\n",
      "|219132 |CN      |2360    |DE_HiQ_zdfdoku |15F667E280262A2C-632FDAA72F2059D|6     |web   |Entertainment     |15F667-5040036@zattoo.com|5040036   |\n",
      "|219132 |CN      |1202    |HiQ_tf1        |15F66C4C58A20423-236EB98405EC990|6     |web   |Information       |15F66C-5040036@zattoo.com|5040036   |\n",
      "|219132 |CN      |1202    |HiQ_tf1        |15F66C4C58A20423-236EB98405EC990|6     |web   |Information       |15F66C-5040036@zattoo.com|5040036   |\n",
      "|219132 |CN      |620     |HD_3plus       |15F66CDB3A7778C1-1378CB8B20D65A0|6     |web   |Unterhaltung      |15F66C-5040036@zattoo.com|5040036   |\n",
      "|219132 |CN      |64      |HD_3plus       |15F66D23F7EB84A2-1617AEEC39E1056|6     |web   |Documentaries     |15F66D-5040036@zattoo.com|5040036   |\n",
      "|219132 |CN      |734     |HD_3plus       |15F66D2BAB151900-42C4E35BE88027E|6     |web   |Unterhaltung      |15F66D-5040036@zattoo.com|5040036   |\n",
      "|219132 |CN      |1318    |HiQ_itv1_london|15F66D8230E9A8A7-6A557DC11068223|6     |web   |Entertainment     |15F66D-5040036@zattoo.com|5040036   |\n",
      "|219132 |CN      |1318    |HiQ_itv1_london|15F66D8230E9A8A7-6A557DC11068223|6     |web   |Entertainment     |15F66D-5040036@zattoo.com|5040036   |\n",
      "|219132 |CN      |14      |HD_3plus       |15F66E1DF8730FEC-65D972165D893F4|6     |web   |Unterhaltung      |15F66E-5040036@zattoo.com|5040036   |\n",
      "|219132 |CN      |1102    |HD_3plus       |15F66E20ADC48A8C-1DAEDD2002AE56A|6     |web   |Documentaries     |15F66E-5040036@zattoo.com|5040036   |\n",
      "|219132 |CN      |1102    |HD_3plus       |15F66E20ADC48A8C-1DAEDD2002AE56A|6     |web   |Documentaries     |15F66E-5040036@zattoo.com|5040036   |\n",
      "|219132 |CN      |1980    |HiQ_itv1_london|15F66EA16B4A0604-222E9A2FAEF9F61|6     |web   |Entertainment     |15F66E-5040036@zattoo.com|5040036   |\n",
      "|219132 |CN      |1980    |HiQ_itv1_london|15F66EA16B4A0604-222E9A2FAEF9F61|6     |web   |Entertainment     |15F66E-5040036@zattoo.com|5040036   |\n",
      "|219132 |CN      |34      |HD_3plus       |15F66F8B087CCC75-65A535639BFDE05|6     |web   |Unterhaltung      |15F66F-5040036@zattoo.com|5040036   |\n",
      "|219132 |CN      |2224    |HD_3plus       |15F66F8F490128CC-2F00D67755EFFF6|6     |web   |Documentaries     |15F66F-5040036@zattoo.com|5040036   |\n",
      "|219132 |CN      |2224    |HD_3plus       |15F66F8F490128CC-2F00D67755EFFF6|6     |web   |Documentaries     |15F66F-5040036@zattoo.com|5040036   |\n",
      "|219132 |CN      |1556    |HD_3plus       |15F67092DC7384D2-C1D313BD2716DC8|6     |web   |Unterhaltung      |15F670-5040036@zattoo.com|5040036   |\n",
      "|219132 |CN      |426     |HiQ_sf2        |15F6143F37CC83B9-14E2778A71C4DEF|6     |web   |Sport             |15F614-5040036@zattoo.com|5040036   |\n",
      "|219132 |CN      |8922    |HiQ_zdf        |15F616628D5F3243-65CA4E963ACBC36|6     |web   |Information       |15F616-5040036@zattoo.com|5040036   |\n",
      "|219132 |CN      |8922    |HiQ_zdf        |15F616628D5F3243-65CA4E963ACBC36|6     |web   |Information       |15F616-5040036@zattoo.com|5040036   |\n",
      "|219132 |CN      |8922    |HiQ_zdf        |15F616628D5F3243-65CA4E963ACBC36|6     |web   |Information       |15F616-5040036@zattoo.com|5040036   |\n",
      "|219132 |CN      |7336    |HD_telezueri   |15F61A725E49A20C-39275D7F4E4AE65|6     |web   |Information       |15F61A-5040036@zattoo.com|5040036   |\n",
      "|219132 |CN      |7336    |HD_telezueri   |15F61A725E49A20C-39275D7F4E4AE65|6     |web   |Information       |15F61A-5040036@zattoo.com|5040036   |\n",
      "|219132 |CN      |7336    |HD_telezueri   |15F61A725E49A20C-39275D7F4E4AE65|6     |web   |Information       |15F61A-5040036@zattoo.com|5040036   |\n",
      "|219132 |CN      |7336    |HD_telezueri   |15F61A725E49A20C-39275D7F4E4AE65|6     |web   |Information       |15F61A-5040036@zattoo.com|5040036   |\n",
      "|219132 |CN      |916     |HD_telezueri   |15F61DC8C8BFADBE-15F38980497BC3F|6     |web   |Entertainment     |15F61D-5040036@zattoo.com|5040036   |\n",
      "|219132 |CN      |916     |HD_telezueri   |15F61DC8C8BFADBE-15F38980497BC3F|6     |web   |Entertainment     |15F61D-5040036@zattoo.com|5040036   |\n",
      "|219132 |CN      |82      |kabel1_doku    |15F6213B78F01DD1-1C7912E5D1190AC|6     |web   |Information:Serien|15F621-5040036@zattoo.com|5040036   |\n",
      "|219132 |CN      |5538    |HD_rtlnitro    |15F621465BB5BD55-43CB5BE5D4B332C|6     |web   |Series            |15F621-5040036@zattoo.com|5040036   |\n",
      "|219132 |CN      |5538    |HD_rtlnitro    |15F621465BB5BD55-43CB5BE5D4B332C|6     |web   |Series            |15F621-5040036@zattoo.com|5040036   |\n",
      "|219132 |CN      |10      |HD_rtlnitro    |15F623DE3067169A-5EEA36615401D48|6     |web   |Serien            |15F623-5040036@zattoo.com|5040036   |\n",
      "|219132 |CN      |3928    |HiQ_zdf        |15F62417CB7C5582-4C90F0DF751EA99|8     |ipad  |Series            |15F624-5040036@zattoo.com|5040036   |\n",
      "|219132 |CN      |66      |HD_tv24        |15F625E1B5202DA0-30B44C61ADECA34|8     |ipad  |Dokumentationen   |15F625-5040036@zattoo.com|5040036   |\n",
      "|219132 |CN      |28      |HiQ_zdf        |15F625E6C2340012-14B72C0ACEFF606|8     |ipad  |Series            |15F625-5040036@zattoo.com|5040036   |\n",
      "|219132 |CN      |2026    |HiQ_zdf        |15F6264D05F4BAFC-60D274F8B36BD11|8     |ipad  |Series            |15F626-5040036@zattoo.com|5040036   |\n",
      "|219132 |CN      |60      |HiQ_sf2        |15F5AFFF9E2FF102-2F5E48660604BCA|8     |iphone|Sport             |15F5AF-5040036@zattoo.com|5040036   |\n",
      "|219132 |CN      |2448    |HiQ_sf2        |15F5B024FAE73796-7ACB927FD8933B0|8     |iphone|Sport             |15F5B0-5040036@zattoo.com|5040036   |\n",
      "|219132 |CN      |154     |HiQ_sf2        |15F5B1433328E5DC-770AEDE99D01C01|8     |iphone|Sport             |15F5B1-5040036@zattoo.com|5040036   |\n",
      "|219132 |CN      |4232    |HiQ_sf2        |15F5B18909D60FA4-174504B18F3E37B|8     |iphone|Sport             |15F5B1-5040036@zattoo.com|5040036   |\n",
      "|219132 |CN      |4       |HD_srfinfo     |15F5B37663A15F1E-3581BB0EBCA1D1F|8     |iphone|Unterhaltung      |15F5B3-5040036@zattoo.com|5040036   |\n",
      "|219132 |CN      |876     |HD_tv24        |15F5C5E0035C4558-15A16059C8538B7|6     |web   |Entertainment     |15F5C5-5040036@zattoo.com|5040036   |\n",
      "|219132 |CN      |1568    |HD_tv24        |15F5C5E0035C4558-15A16059C8538B7|6     |web   |Series            |15F5C5-5040036@zattoo.com|5040036   |\n",
      "|219132 |CN      |1568    |HD_tv24        |15F5C5E0035C4558-15A16059C8538B7|6     |web   |Series            |15F5C5-5040036@zattoo.com|5040036   |\n",
      "|219132 |CN      |2090    |HD_tv24        |15F5C5E0035C4558-15A16059C8538B7|6     |web   |Entertainment     |15F5C5-5040036@zattoo.com|5040036   |\n",
      "|219132 |CN      |2126    |HD_tv24        |15F5C5E0035C4558-15A16059C8538B7|6     |web   |Entertainment     |15F5C5-5040036@zattoo.com|5040036   |\n",
      "|219132 |CN      |7032    |HiQ_orf2       |15F5849DE1044259-DF54FDC349735CF|8     |ipad  |Documentaries     |15F584-5040036@zattoo.com|5040036   |\n",
      "|219132 |CN      |2934    |DE_HiQ_zdfdoku |15F52D3F95F929B9-70C2411B4F95A01|8     |ipad  |Entertainment     |15F52D-5040036@zattoo.com|5040036   |\n",
      "|219132 |CN      |200     |HiQ_zdf        |15F52E9F66B74B4A-4C12FA775546AD7|8     |ipad  |Series            |15F52E-5040036@zattoo.com|5040036   |\n",
      "+-------+--------+--------+---------------+--------------------------------+------+------+------------------+-------------------------+----------+\n",
      "only showing top 70 rows\n",
      "\n"
     ]
    }
   ],
   "source": [
    "df.show(truncate=False, n=70)"
   ]
  },
  {
   "cell_type": "code",
   "execution_count": 9,
   "metadata": {
    "scrolled": true
   },
   "outputs": [
    {
     "name": "stderr",
     "output_type": "stream",
     "text": [
      "                                                                                \r"
     ]
    },
    {
     "name": "stdout",
     "output_type": "stream",
     "text": [
      "+--------+-------------+\n",
      "|regionid|sum(duration)|\n",
      "+--------+-------------+\n",
      "|      CN|    740498496|\n",
      "|      AT|        58008|\n",
      "|      PT|         3138|\n",
      "|      CL|       570638|\n",
      "|      AU|       143916|\n",
      "|      GB|        12080|\n",
      "|      ES|        90364|\n",
      "|      US|        16546|\n",
      "|      FR|       843548|\n",
      "|      IT|        10748|\n",
      "|      SK|        22554|\n",
      "|      HU|        11240|\n",
      "|      DK|           24|\n",
      "+--------+-------------+\n",
      "\n"
     ]
    }
   ],
   "source": [
    "df.groupBy('regionid').sum('duration').show()"
   ]
  },
  {
   "cell_type": "code",
   "execution_count": 11,
   "metadata": {},
   "outputs": [
    {
     "ename": "AttributeError",
     "evalue": "'DataFrame' object has no attribute 'SHOW'",
     "output_type": "error",
     "traceback": [
      "\u001b[0;31m---------------------------------------------------------------------------\u001b[0m",
      "\u001b[0;31mAttributeError\u001b[0m                            Traceback (most recent call last)",
      "\u001b[0;32m/tmp/ipykernel_237/580458031.py\u001b[0m in \u001b[0;36m<module>\u001b[0;34m\u001b[0m\n\u001b[0;32m----> 1\u001b[0;31m \u001b[0mdf\u001b[0m\u001b[0;34m.\u001b[0m\u001b[0mselect\u001b[0m\u001b[0;34m(\u001b[0m\u001b[0;34m'device'\u001b[0m\u001b[0;34m,\u001b[0m \u001b[0;34m'cats'\u001b[0m\u001b[0;34m)\u001b[0m\u001b[0;34m.\u001b[0m\u001b[0mwhere\u001b[0m\u001b[0;34m(\u001b[0m\u001b[0;34m'regionid == \"CN\"'\u001b[0m\u001b[0;34m)\u001b[0m\u001b[0;34m.\u001b[0m\u001b[0mSHOW\u001b[0m\u001b[0;34m(\u001b[0m\u001b[0;34m)\u001b[0m\u001b[0;34m\u001b[0m\u001b[0;34m\u001b[0m\u001b[0m\n\u001b[0m",
      "\u001b[0;32m/usr/local/spark/python/pyspark/sql/dataframe.py\u001b[0m in \u001b[0;36m__getattr__\u001b[0;34m(self, name)\u001b[0m\n\u001b[1;32m   1641\u001b[0m         \"\"\"\n\u001b[1;32m   1642\u001b[0m         \u001b[0;32mif\u001b[0m \u001b[0mname\u001b[0m \u001b[0;32mnot\u001b[0m \u001b[0;32min\u001b[0m \u001b[0mself\u001b[0m\u001b[0;34m.\u001b[0m\u001b[0mcolumns\u001b[0m\u001b[0;34m:\u001b[0m\u001b[0;34m\u001b[0m\u001b[0;34m\u001b[0m\u001b[0m\n\u001b[0;32m-> 1643\u001b[0;31m             raise AttributeError(\n\u001b[0m\u001b[1;32m   1644\u001b[0m                 \"'%s' object has no attribute '%s'\" % (self.__class__.__name__, name))\n\u001b[1;32m   1645\u001b[0m         \u001b[0mjc\u001b[0m \u001b[0;34m=\u001b[0m \u001b[0mself\u001b[0m\u001b[0;34m.\u001b[0m\u001b[0m_jdf\u001b[0m\u001b[0;34m.\u001b[0m\u001b[0mapply\u001b[0m\u001b[0;34m(\u001b[0m\u001b[0mname\u001b[0m\u001b[0;34m)\u001b[0m\u001b[0;34m\u001b[0m\u001b[0;34m\u001b[0m\u001b[0m\n",
      "\u001b[0;31mAttributeError\u001b[0m: 'DataFrame' object has no attribute 'SHOW'"
     ]
    }
   ],
   "source": [
    "df.select('device', 'cats').where('regionid == \"CN\"').SHOW()"
   ]
  },
  {
   "cell_type": "code",
   "execution_count": 1,
   "metadata": {},
   "outputs": [
    {
     "ename": "NameError",
     "evalue": "name 'df' is not defined",
     "output_type": "error",
     "traceback": [
      "\u001b[0;31m---------------------------------------------------------------------------\u001b[0m",
      "\u001b[0;31mNameError\u001b[0m                                 Traceback (most recent call last)",
      "\u001b[0;32m/tmp/ipykernel_237/3833172019.py\u001b[0m in \u001b[0;36m<module>\u001b[0;34m\u001b[0m\n\u001b[0;32m----> 1\u001b[0;31m \u001b[0mdf\u001b[0m\u001b[0;34m.\u001b[0m\u001b[0mgroupBy\u001b[0m\u001b[0;34m(\u001b[0m\u001b[0;34m'device'\u001b[0m\u001b[0;34m)\u001b[0m\u001b[0;34m.\u001b[0m\u001b[0msum\u001b[0m\u001b[0;34m(\u001b[0m\u001b[0;34m'duration'\u001b[0m\u001b[0;34m)\u001b[0m\u001b[0;34m.\u001b[0m\u001b[0malias\u001b[0m\u001b[0;34m(\u001b[0m\u001b[0;34m'total_duration'\u001b[0m\u001b[0;34m)\u001b[0m\u001b[0;34m.\u001b[0m\u001b[0mshow\u001b[0m\u001b[0;34m(\u001b[0m\u001b[0;34m)\u001b[0m\u001b[0;34m\u001b[0m\u001b[0;34m\u001b[0m\u001b[0m\n\u001b[0m",
      "\u001b[0;31mNameError\u001b[0m: name 'df' is not defined"
     ]
    }
   ],
   "source": [
    "df.groupBy('device').sum('duration').alias('total_duration').show()"
   ]
  },
  {
   "cell_type": "code",
   "execution_count": 37,
   "metadata": {},
   "outputs": [
    {
     "name": "stderr",
     "output_type": "stream",
     "text": [
      "                                                                                \r"
     ]
    },
    {
     "name": "stdout",
     "output_type": "stream",
     "text": [
      "+--------+---------------------+\n",
      "|regionid|count(unique_sess_id)|\n",
      "+--------+---------------------+\n",
      "|      CN|               150501|\n",
      "|      AT|                   45|\n",
      "|      PT|                    2|\n",
      "|      CL|                  184|\n",
      "|      AU|                   40|\n",
      "|      GB|                    5|\n",
      "|      ES|                   47|\n",
      "|      US|                    3|\n",
      "|      FR|                  170|\n",
      "|      IT|                    2|\n",
      "|      SK|                   12|\n",
      "|      HU|                    1|\n",
      "|      DK|                    1|\n",
      "+--------+---------------------+\n",
      "\n"
     ]
    }
   ],
   "source": [
    "df.groupBy('regionid').agg(countDistinct('unique_sess_id')).show()"
   ]
  },
  {
   "cell_type": "code",
   "execution_count": 38,
   "metadata": {},
   "outputs": [
    {
     "name": "stderr",
     "output_type": "stream",
     "text": [
      "                                                                                \r"
     ]
    },
    {
     "name": "stdout",
     "output_type": "stream",
     "text": [
      "+-----------------+---------------------+\n",
      "|           device|count(unique_sess_id)|\n",
      "+-----------------+---------------------+\n",
      "|           iphone|                 6771|\n",
      "|          android|                 8139|\n",
      "|        panasonic|                  133|\n",
      "|          iPad2,1|                  437|\n",
      "|android_bigscreen|                12687|\n",
      "|   android_tablet|                 2947|\n",
      "|     windows_xbox|                   61|\n",
      "|        bigscreen|                 6187|\n",
      "|  windows_desktop|                 3797|\n",
      "|          iPad4,1|                 2297|\n",
      "|              web|                25067|\n",
      "|             ipad|                32901|\n",
      "|          iPad1,1|                  351|\n",
      "|          appletv|                31144|\n",
      "|            tizen|                18094|\n",
      "+-----------------+---------------------+\n",
      "\n"
     ]
    }
   ],
   "source": [
    "df.groupBy('device').agg(countDistinct('unique_sess_id')).show()"
   ]
  },
  {
   "cell_type": "code",
   "execution_count": 39,
   "metadata": {},
   "outputs": [
    {
     "name": "stdout",
     "output_type": "stream",
     "text": [
      "+--------+---------------------+\n",
      "|regionid|count(unique_sess_id)|\n",
      "+--------+---------------------+\n",
      "|      CN|               199374|\n",
      "|      AT|                   56|\n",
      "|      PT|                    2|\n",
      "|      CL|                  247|\n",
      "|      AU|                   47|\n",
      "|      GB|                    6|\n",
      "|      ES|                   52|\n",
      "|      US|                    5|\n",
      "|      FR|                  192|\n",
      "|      IT|                    2|\n",
      "|      SK|                   15|\n",
      "|      HU|                    1|\n",
      "|      DK|                    1|\n",
      "+--------+---------------------+\n",
      "\n"
     ]
    }
   ],
   "source": [
    "df.groupBy('regionid').agg(count('unique_sess_id')).show()"
   ]
  },
  {
   "cell_type": "code",
   "execution_count": 40,
   "metadata": {
    "scrolled": true
   },
   "outputs": [
    {
     "name": "stdout",
     "output_type": "stream",
     "text": [
      "+-----------------+---------------------+\n",
      "|           device|count(unique_sess_id)|\n",
      "+-----------------+---------------------+\n",
      "|           iphone|                 8553|\n",
      "|          android|                11130|\n",
      "|        panasonic|                  152|\n",
      "|          iPad2,1|                  552|\n",
      "|android_bigscreen|                15794|\n",
      "|   android_tablet|                 3892|\n",
      "|     windows_xbox|                   78|\n",
      "|        bigscreen|                 8041|\n",
      "|  windows_desktop|                 7286|\n",
      "|          iPad4,1|                 2945|\n",
      "|              web|                40720|\n",
      "|             ipad|                38826|\n",
      "|          iPad1,1|                  428|\n",
      "|          appletv|                41262|\n",
      "|            tizen|                20341|\n",
      "+-----------------+---------------------+\n",
      "\n"
     ]
    }
   ],
   "source": [
    "df.groupBy('device').agg(count('unique_sess_id')).show()"
   ]
  },
  {
   "cell_type": "code",
   "execution_count": 76,
   "metadata": {},
   "outputs": [],
   "source": [
    "from pyspark.sql.functions import unix_timestamp, from_unixtime, current_timestamp, to_timestamp, to_date"
   ]
  },
  {
   "cell_type": "code",
   "execution_count": 84,
   "metadata": {},
   "outputs": [
    {
     "name": "stdout",
     "output_type": "stream",
     "text": [
      "+----------+\n",
      "|  date_str|\n",
      "+----------+\n",
      "|11/25/1991|\n",
      "|11/24/1991|\n",
      "|11/30/1991|\n",
      "+----------+\n",
      "\n"
     ]
    }
   ],
   "source": [
    "df = spark.createDataFrame(\n",
    "    [(\"11/25/1991\",), (\"11/24/1991\",), (\"11/30/1991\",)], \n",
    "    ['date_str']\n",
    ")\n",
    "df.show()"
   ]
  },
  {
   "cell_type": "code",
   "execution_count": 78,
   "metadata": {},
   "outputs": [],
   "source": [
    "df2 = df.select(\n",
    "    'date_str', \n",
    "    from_unixtime(unix_timestamp('date_str', 'mm/dd/yyy')).alias('date')\n",
    ")\n",
    "df3 = df.select('date_str', to_timestamp(df.date_str, 'MM/dd/yyy').alias('date'))\n",
    "df4 = df.select('date_str', to_date(df.date_str, 'MM/dd/yyy').alias('date'))"
   ]
  },
  {
   "cell_type": "code",
   "execution_count": 79,
   "metadata": {},
   "outputs": [
    {
     "name": "stdout",
     "output_type": "stream",
     "text": [
      "+----------+-------------------+\n",
      "|  date_str|               date|\n",
      "+----------+-------------------+\n",
      "|11/25/1991|1991-01-25 00:11:00|\n",
      "|11/24/1991|1991-01-24 00:11:00|\n",
      "|11/30/1991|1991-01-30 00:11:00|\n",
      "+----------+-------------------+\n",
      "\n"
     ]
    }
   ],
   "source": [
    "df2.show()"
   ]
  },
  {
   "cell_type": "code",
   "execution_count": 80,
   "metadata": {},
   "outputs": [
    {
     "name": "stdout",
     "output_type": "stream",
     "text": [
      "+----------+-------------------+\n",
      "|  date_str|               date|\n",
      "+----------+-------------------+\n",
      "|11/25/1991|1991-11-25 00:00:00|\n",
      "|11/24/1991|1991-11-24 00:00:00|\n",
      "|11/30/1991|1991-11-30 00:00:00|\n",
      "+----------+-------------------+\n",
      "\n"
     ]
    }
   ],
   "source": [
    "df3.show()"
   ]
  },
  {
   "cell_type": "code",
   "execution_count": 81,
   "metadata": {},
   "outputs": [
    {
     "name": "stdout",
     "output_type": "stream",
     "text": [
      "+----------+----------+\n",
      "|  date_str|      date|\n",
      "+----------+----------+\n",
      "|11/25/1991|1991-11-25|\n",
      "|11/24/1991|1991-11-24|\n",
      "|11/30/1991|1991-11-30|\n",
      "+----------+----------+\n",
      "\n"
     ]
    }
   ],
   "source": [
    "df4.show()"
   ]
  },
  {
   "cell_type": "code",
   "execution_count": 101,
   "metadata": {},
   "outputs": [],
   "source": [
    "import datetime\n",
    "data2 =[(datetime.datetime(2022, 3, 4, 15, 16, 3, 607621),),\n",
    " (datetime.datetime(2022, 3, 5, 15, 16, 3, 607621),),\n",
    " (datetime.datetime(2022, 3, 6, 15, 16, 3, 607621),),\n",
    " (datetime.datetime(2022, 3, 7, 15, 16, 3, 607621),),\n",
    " (datetime.datetime(2022, 3, 8, 15, 16, 3, 607621),),\n",
    " (datetime.datetime(2022, 3, 9, 15, 16, 3, 607621),),\n",
    " (datetime.datetime(2022, 3, 10, 15, 16, 3, 607621),)]\n",
    "\n",
    "schema = StructType([ \\\n",
    "    StructField(\"date\",DateType())\n",
    "  ])\n",
    " \n",
    "df_date = spark.createDataFrame(data=data2,schema=schema)"
   ]
  },
  {
   "cell_type": "code",
   "execution_count": 102,
   "metadata": {},
   "outputs": [
    {
     "name": "stdout",
     "output_type": "stream",
     "text": [
      "+----------+\n",
      "|      date|\n",
      "+----------+\n",
      "|2022-03-04|\n",
      "|2022-03-05|\n",
      "|2022-03-06|\n",
      "|2022-03-07|\n",
      "|2022-03-08|\n",
      "|2022-03-09|\n",
      "|2022-03-10|\n",
      "+----------+\n",
      "\n"
     ]
    }
   ],
   "source": [
    "df_date.show()"
   ]
  },
  {
   "cell_type": "code",
   "execution_count": 113,
   "metadata": {},
   "outputs": [
    {
     "name": "stdout",
     "output_type": "stream",
     "text": [
      "+----------+\n",
      "|      date|\n",
      "+----------+\n",
      "|2022-03-04|\n",
      "|2022-03-05|\n",
      "|2022-03-06|\n",
      "|2022-03-07|\n",
      "+----------+\n",
      "\n"
     ]
    }
   ],
   "source": [
    "now =  datetime.datetime.now()\n",
    "df_date.filter(df_date.date.between(now.date(),(now+datetime.timedelta(days=3)).date())).show()"
   ]
  },
  {
   "cell_type": "code",
   "execution_count": 115,
   "metadata": {},
   "outputs": [
    {
     "data": {
      "text/plain": [
       "datetime.date(2022, 3, 4)"
      ]
     },
     "execution_count": 115,
     "metadata": {},
     "output_type": "execute_result"
    }
   ],
   "source": [
    "now.date()"
   ]
  },
  {
   "cell_type": "code",
   "execution_count": 136,
   "metadata": {},
   "outputs": [
    {
     "data": {
      "text/plain": [
       "Column<'date'>"
      ]
     },
     "execution_count": 136,
     "metadata": {},
     "output_type": "execute_result"
    }
   ],
   "source": [
    "df_date['date']"
   ]
  },
  {
   "cell_type": "code",
   "execution_count": 149,
   "metadata": {},
   "outputs": [
    {
     "data": {
      "text/plain": [
       "datetime.date(2022, 3, 10)"
      ]
     },
     "execution_count": 149,
     "metadata": {},
     "output_type": "execute_result"
    }
   ],
   "source": [
    "df_date.tail(1)[0]['date']"
   ]
  },
  {
   "cell_type": "code",
   "execution_count": 150,
   "metadata": {},
   "outputs": [
    {
     "name": "stdout",
     "output_type": "stream",
     "text": [
      "+----------+\n",
      "|      date|\n",
      "+----------+\n",
      "|2022-03-04|\n",
      "|2022-03-05|\n",
      "|2022-03-06|\n",
      "|2022-03-07|\n",
      "|2022-03-08|\n",
      "|2022-03-09|\n",
      "|2022-03-10|\n",
      "+----------+\n",
      "\n"
     ]
    }
   ],
   "source": [
    "df_date.show()"
   ]
  },
  {
   "cell_type": "code",
   "execution_count": null,
   "metadata": {},
   "outputs": [],
   "source": []
  }
 ],
 "metadata": {
  "kernelspec": {
   "display_name": "Python 3 (ipykernel)",
   "language": "python",
   "name": "python3"
  },
  "language_info": {
   "codemirror_mode": {
    "name": "ipython",
    "version": 3
   },
   "file_extension": ".py",
   "mimetype": "text/x-python",
   "name": "python",
   "nbconvert_exporter": "python",
   "pygments_lexer": "ipython3",
   "version": "3.9.7"
  }
 },
 "nbformat": 4,
 "nbformat_minor": 4
}
